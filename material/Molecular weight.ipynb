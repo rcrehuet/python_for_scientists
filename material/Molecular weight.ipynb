{
 "metadata": {
  "name": "",
  "signature": "sha256:56a7376d3ceadaa661b904822304625723cc82260f51393da30610dc6891598e"
 },
 "nbformat": 3,
 "nbformat_minor": 0,
 "worksheets": [
  {
   "cells": [
    {
     "cell_type": "heading",
     "level": 1,
     "metadata": {},
     "source": [
      "Molecular weight"
     ]
    },
    {
     "cell_type": "markdown",
     "metadata": {},
     "source": [
      "We want to calculate the molecular weight of a chemical formula. So given $\\mathrm{C_6H_6}$ we want the result to be $12\\times 6+1\\times 6 = 18$. We can use integer as an approximation to the atomic weight to ease our mental calculations. Improving that at the end is trivial.\n",
      "\n",
      "The most straightforward way to keep the atomic weights of elements is in a dicctionary:"
     ]
    },
    {
     "cell_type": "code",
     "collapsed": false,
     "input": [
      "weightDict = {\n",
      "'C':12,\n",
      "'H':1,\n",
      "'O':16,\n",
      "'Cl':35\n",
      "#add more if needed.\n",
      "}"
     ],
     "language": "python",
     "metadata": {},
     "outputs": [],
     "prompt_number": 2
    },
    {
     "cell_type": "markdown",
     "metadata": {},
     "source": [
      "Parsing the molecular formula is not a trivial task that we will do later. We start by assuming that the formula has been parsed.\n",
      "If the formula is a condensed? formula, it make sense to keep it as a dictionary. In a condensed formula, each element appears only once, and its subindex indicates the total amount of atoms of that element in the molecule. Ethanol is $\\mathrm{C_2H_6O}$."
     ]
    },
    {
     "cell_type": "code",
     "collapsed": false,
     "input": [
      "ethanol = {'C':2, 'H':6, 'O':1}\n",
      "water = {'H':2, 'O':1}\n",
      "HCl = {'H':1, 'Cl':1}"
     ],
     "language": "python",
     "metadata": {},
     "outputs": [],
     "prompt_number": 10
    },
    {
     "cell_type": "markdown",
     "metadata": {},
     "source": [
      "This is how we can calculate the total weight:"
     ]
    },
    {
     "cell_type": "code",
     "collapsed": false,
     "input": [],
     "language": "python",
     "metadata": {},
     "outputs": [
      {
       "output_type": "stream",
       "stream": "stdout",
       "text": [
        "{'O': 1, 'H': 6, 'C': 2}\n",
        "{'O': 1, 'H': 2}\n",
        "{'Cl': 1, 'H': 1}\n"
       ]
      }
     ],
     "prompt_number": 12
    },
    {
     "cell_type": "markdown",
     "metadata": {},
     "source": [
      "Now imagine we also accept formulas in an extended way, for example ethanol as $\\mathrm{CH_3CH_2OH}$. In that case it makes sense that our parsing procedure returns a list of tuples such as:"
     ]
    },
    {
     "cell_type": "code",
     "collapsed": false,
     "input": [
      "ethanol = {('C',1), ('H',3), ('C',1), ('H',2), ('O',1), ('H',1)}"
     ],
     "language": "python",
     "metadata": {},
     "outputs": [],
     "prompt_number": 13
    },
    {
     "cell_type": "markdown",
     "metadata": {},
     "source": [
      "Remark that "
     ]
    }
   ],
   "metadata": {}
  }
 ]
}