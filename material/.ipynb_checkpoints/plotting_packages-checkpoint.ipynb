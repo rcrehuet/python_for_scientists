{
 "metadata": {
  "name": "",
  "signature": "sha256:62e78731ee54a38c7f66cecbe9b60bb17ba684a01d060e8c130cfe022ea8205a"
 },
 "nbformat": 3,
 "nbformat_minor": 0,
 "worksheets": [
  {
   "cells": [
    {
     "cell_type": "heading",
     "level": 1,
     "metadata": {},
     "source": [
      "Checking and describing alternatives to matplotlib"
     ]
    },
    {
     "cell_type": "markdown",
     "metadata": {},
     "source": [
      "Here we check different alternatives to matplotlib, that may represent the future or simply \"something different\"."
     ]
    },
    {
     "cell_type": "heading",
     "level": 2,
     "metadata": {},
     "source": [
      "Plotly"
     ]
    },
    {
     "cell_type": "markdown",
     "metadata": {},
     "source": [
      "Plotly is not in the conda distribution.\n",
      "It has to be installed with `pip3 install plotly`\n",
      "This is a web based service that need a (free) registration. Therefore it need a web connection to work. Not that uncommon nowadays... but you can use the demo account, as in these examples."
     ]
    },
    {
     "cell_type": "code",
     "collapsed": false,
     "input": [
      "import plotly"
     ],
     "language": "python",
     "metadata": {},
     "outputs": [],
     "prompt_number": 1
    },
    {
     "cell_type": "markdown",
     "metadata": {},
     "source": [
      "For those users familiar with matplotlib, there is an interface which is similar to matplotlib. You can create the figure with matiplotlib and just export it with plotly. Here is how to do it."
     ]
    },
    {
     "cell_type": "code",
     "collapsed": false,
     "input": [
      "import matplotlib.pyplot as plt\n",
      "import matplotlib.mlab as mlab\n",
      "import numpy as np\n",
      "import plotly.plotly as py\n",
      "\n",
      "py.sign_in('DemoAccount', 'lr1c37zw81')\n",
      "\n",
      "# Learn about API authentication here: https://plot.ly/python/getting-started\n",
      "# Find your api_key here: https://plot.ly/settings/api\n",
      "\n",
      "# evenly sampled time at 200ms intervals\n",
      "t = np.arange(0., 5., 0.2)\n",
      "\n",
      "# red dashes, blue squares and green triangles\n",
      "plt.plot(t, t, 'r--', t, t**2, 'bs', t, t**3, 'g^')\n",
      "\n",
      "fig = plt.gcf()\n",
      "plot_url = py.plot_mpl(fig, filename='mpl-line-style')"
     ],
     "language": "python",
     "metadata": {},
     "outputs": [],
     "prompt_number": 4
    },
    {
     "cell_type": "markdown",
     "metadata": {},
     "source": [
      "This is how the figure looks like in matplotlib"
     ]
    },
    {
     "cell_type": "code",
     "collapsed": false,
     "input": [
      "%matplotlib inline\n",
      "plt.plot(t, t, 'r--', t, t**2, 'bs', t, t**3, 'g^')"
     ],
     "language": "python",
     "metadata": {},
     "outputs": []
    },
    {
     "cell_type": "markdown",
     "metadata": {},
     "source": [
      "You can see that, in fact, both plots look the same. What is the advantage of plotly then? I see three advantages:\n",
      "\n",
      "1. Plotly works as an online plotting software, somehow like excel, where you don't have to remember the command-line order to setup a graph.\n",
      "2. Plotly has nicer default options than matplotlib. This is alleviated in the 1.4 matplotlib release, where you can easily configure styles, with the `style` method, and some are even available in the distribution.\n",
      "3. In matplotlib, either you have an interactive plot in a separate window, or a static inline plot in a notebook. This is a severe limitation that plotly removes, and it is probably the main reason to run away from matiplotlib and try all these alternatives.\n",
      "\n",
      "Here you have an example describing the last two points. Below you will also find the default matplotlib graph. \n",
      "For a tutorial on how to use plotly as a plotting software, see: https://plot.ly/online-graphing/\n",
      "\n",
      "The graphics [gallery](https://plot.ly/python/) shows some example of graphics. They look nice but the repertoire is still much smaller than the matplotlib gallery.\n",
      "\n",
      "Saving an image is not trivial... Go to the web interface (play with these data), then \"fork and edit\", and then you can edit or save it, if you are registered. Saving formats are PNG, PDF, SVG or EPS. "
     ]
    },
    {
     "cell_type": "code",
     "collapsed": false,
     "input": [
      "from plotly.graph_objs import *\n",
      "x1 = [1, 2, 3, 4]\n",
      "y1 = [10, 15, 13, 17]\n",
      "x2 = [1, 2, 3, 4]\n",
      "y2 = [16, 5, 11, 9]\n",
      "\n",
      "trace0 = Scatter(x=x1, y=y1)\n",
      "trace1 = Scatter(x=x2, y=y2)\n",
      "data = Data([trace0, trace1])\n",
      "plt.plot(x1,y1)\n",
      "plt.plot(x2,y2)\n",
      "py.iplot(data)"
     ],
     "language": "python",
     "metadata": {},
     "outputs": [
      {
       "html": [
        "<iframe id=\"igraph\" scrolling=\"no\" style=\"border:none;\"seamless=\"seamless\" src=\"https://plot.ly/~DemoAccount/632.embed\" height=\"525\" width=\"100%\"></iframe>"
       ],
       "metadata": {},
       "output_type": "pyout",
       "prompt_number": 5,
       "text": [
        "<plotly.tools.PlotlyDisplay at 0xb00256cc>"
       ]
      }
     ],
     "prompt_number": 5
    },
    {
     "cell_type": "heading",
     "level": 2,
     "metadata": {},
     "source": [
      "Bokeh"
     ]
    },
    {
     "cell_type": "markdown",
     "metadata": {},
     "source": [
      "[Bokeh](http://bokeh.pydata.org/en/latest/) is another visualization package based on JavaScript. Its installation is simple: just type `sudo pip3 install bokeh` or, if you are using an Anaconda distribution `conda install bokeh`.\n",
      "\n",
      "Now we are going to test it."
     ]
    },
    {
     "cell_type": "code",
     "collapsed": false,
     "input": [
      "import bokeh"
     ],
     "language": "python",
     "metadata": {},
     "outputs": [],
     "prompt_number": 7
    },
    {
     "cell_type": "code",
     "collapsed": false,
     "input": [
      "from bokeh.plotting import figure, output_notebook, show, output_file\n",
      "output_notebook()\n",
      "# Plot a `line` renderer setting the color, line thickness, title, and legend value.\n",
      "p = figure(title=\"simple line example\")\n",
      "p.line(x1, y1, legend=\"Trace0\", tools=None)\n",
      "p.line(x2, y2, legend=\"Trace1\", tools=None)\n",
      "\n",
      "show(p)"
     ],
     "language": "python",
     "metadata": {},
     "outputs": [
      {
       "html": [
        "<script type=\"text/javascript\">\n",
        "        Bokeh.$(function() {\n",
        "            var modelid = \"c3dbed72-027a-4e75-a20e-82c03b5bedab\";\n",
        "            var modeltype = \"Plot\";\n",
        "            var elementid = \"d898b82b-71d4-40f8-942c-b24739f62f04\";\n",
        "            Bokeh.logger.info(\"Realizing plot:\")\n",
        "            Bokeh.logger.info(\" - modeltype: Plot\");\n",
        "            Bokeh.logger.info(\" - modelid: c3dbed72-027a-4e75-a20e-82c03b5bedab\");\n",
        "            Bokeh.logger.info(\" - elementid: d898b82b-71d4-40f8-942c-b24739f62f04\");\n",
        "            var all_models = [{\"id\": \"c46996a1-1da8-4d51-bbdd-1cbacd019380\", \"attributes\": {\"line_alpha\": {\"value\": 0.1, \"units\": \"data\"}, \"y\": {\"field\": \"y\", \"units\": \"data\"}, \"line_color\": {\"value\": \"#1f77b4\"}, \"id\": \"c46996a1-1da8-4d51-bbdd-1cbacd019380\", \"doc\": null, \"tags\": [], \"x\": {\"field\": \"x\", \"units\": \"data\"}}, \"type\": \"Line\"}, {\"subtype\": \"Figure\", \"id\": \"c3dbed72-027a-4e75-a20e-82c03b5bedab\", \"attributes\": {\"right\": [], \"extra_y_ranges\": {}, \"id\": \"c3dbed72-027a-4e75-a20e-82c03b5bedab\", \"x_range\": {\"id\": \"817c75ad-d9ee-492d-85a4-1f8683b9353f\", \"type\": \"DataRange1d\"}, \"title\": \"simple line example\", \"y_range\": {\"id\": \"bd434b1e-2841-461b-ab26-438f4ef768f2\", \"type\": \"DataRange1d\"}, \"tools\": [{\"id\": \"69712565-6ade-4981-b73e-fb885850b82b\", \"type\": \"PanTool\"}, {\"id\": \"6c68013b-73fe-42ff-bb8e-41dc717b17f3\", \"type\": \"WheelZoomTool\"}, {\"id\": \"1e1f51c6-4d2a-4c57-9a8e-e5313f7d6d41\", \"type\": \"BoxZoomTool\"}, {\"id\": \"5e630fa9-3b8e-4d65-97d7-54352c160045\", \"type\": \"PreviewSaveTool\"}, {\"id\": \"61637744-c63a-44a0-8cf2-5e554ab20a2b\", \"type\": \"ResizeTool\"}, {\"id\": \"c710bf29-a086-4ff7-9ab3-0e5e40b21fba\", \"type\": \"ResetTool\"}], \"tags\": [], \"below\": [{\"id\": \"337f02c1-1a93-487a-a87d-aced7ef71d03\", \"type\": \"LinearAxis\"}], \"tool_events\": {\"id\": \"8aa0a322-1866-42b1-8aed-17c74550705d\", \"type\": \"ToolEvents\"}, \"renderers\": [{\"id\": \"337f02c1-1a93-487a-a87d-aced7ef71d03\", \"type\": \"LinearAxis\"}, {\"id\": \"9c8aa586-3954-4bec-82fb-fd3c0d500aa0\", \"type\": \"Grid\"}, {\"id\": \"72276fc2-b524-4a25-a5a9-d3c9e3d5dc6a\", \"type\": \"LinearAxis\"}, {\"id\": \"bb1f5538-40ad-4c88-8b72-51e7f2927bd0\", \"type\": \"Grid\"}, {\"id\": \"c6a68a05-1f26-44e3-b36a-305683211a66\", \"type\": \"Legend\"}, {\"id\": \"19fcf0ae-5adf-499c-b102-55ef660557e1\", \"type\": \"GlyphRenderer\"}, {\"id\": \"547cdb6a-070a-4c72-894a-ccd29660841c\", \"type\": \"GlyphRenderer\"}], \"above\": [], \"doc\": null, \"left\": [{\"id\": \"72276fc2-b524-4a25-a5a9-d3c9e3d5dc6a\", \"type\": \"LinearAxis\"}], \"extra_x_ranges\": {}}, \"type\": \"Plot\"}, {\"id\": \"8aa0a322-1866-42b1-8aed-17c74550705d\", \"attributes\": {\"geometries\": [], \"id\": \"8aa0a322-1866-42b1-8aed-17c74550705d\", \"tags\": [], \"doc\": null}, \"type\": \"ToolEvents\"}, {\"id\": \"bb1f5538-40ad-4c88-8b72-51e7f2927bd0\", \"attributes\": {\"ticker\": {\"id\": \"14434bc9-0c29-41d5-a110-617f8d7f0756\", \"type\": \"BasicTicker\"}, \"tags\": [], \"plot\": {\"subtype\": \"Figure\", \"id\": \"c3dbed72-027a-4e75-a20e-82c03b5bedab\", \"type\": \"Plot\"}, \"id\": \"bb1f5538-40ad-4c88-8b72-51e7f2927bd0\", \"dimension\": 1, \"doc\": null}, \"type\": \"Grid\"}, {\"id\": \"337f02c1-1a93-487a-a87d-aced7ef71d03\", \"attributes\": {\"ticker\": {\"id\": \"7a6c90dd-1130-4f2e-b946-6ae7b39c891b\", \"type\": \"BasicTicker\"}, \"tags\": [], \"plot\": {\"subtype\": \"Figure\", \"id\": \"c3dbed72-027a-4e75-a20e-82c03b5bedab\", \"type\": \"Plot\"}, \"id\": \"337f02c1-1a93-487a-a87d-aced7ef71d03\", \"doc\": null, \"formatter\": {\"id\": \"74ea4790-82d6-4267-ad2a-09c6707eb6d9\", \"type\": \"BasicTickFormatter\"}}, \"type\": \"LinearAxis\"}, {\"id\": \"72276fc2-b524-4a25-a5a9-d3c9e3d5dc6a\", \"attributes\": {\"ticker\": {\"id\": \"14434bc9-0c29-41d5-a110-617f8d7f0756\", \"type\": \"BasicTicker\"}, \"tags\": [], \"plot\": {\"subtype\": \"Figure\", \"id\": \"c3dbed72-027a-4e75-a20e-82c03b5bedab\", \"type\": \"Plot\"}, \"id\": \"72276fc2-b524-4a25-a5a9-d3c9e3d5dc6a\", \"doc\": null, \"formatter\": {\"id\": \"01c06cb0-a694-4a15-8123-58da60a35f2f\", \"type\": \"BasicTickFormatter\"}}, \"type\": \"LinearAxis\"}, {\"id\": \"572cc08f-88e5-4048-8a10-7b2cb384cc28\", \"attributes\": {\"line_alpha\": {\"value\": 1.0, \"units\": \"data\"}, \"y\": {\"field\": \"y\", \"units\": \"data\"}, \"line_color\": {\"value\": \"#1f77b4\"}, \"id\": \"572cc08f-88e5-4048-8a10-7b2cb384cc28\", \"doc\": null, \"tags\": [], \"x\": {\"field\": \"x\", \"units\": \"data\"}}, \"type\": \"Line\"}, {\"id\": \"bd434b1e-2841-461b-ab26-438f4ef768f2\", \"attributes\": {\"id\": \"bd434b1e-2841-461b-ab26-438f4ef768f2\", \"tags\": [], \"doc\": null, \"sources\": [{\"source\": {\"id\": \"11336517-94de-410a-8c80-53b6905489e0\", \"type\": \"ColumnDataSource\"}, \"columns\": [\"y\"]}, {\"source\": {\"id\": \"afdf6af7-4b24-4070-a0d4-2eb99f20cefc\", \"type\": \"ColumnDataSource\"}, \"columns\": [\"y\"]}]}, \"type\": \"DataRange1d\"}, {\"id\": \"69712565-6ade-4981-b73e-fb885850b82b\", \"attributes\": {\"tags\": [], \"plot\": {\"subtype\": \"Figure\", \"id\": \"c3dbed72-027a-4e75-a20e-82c03b5bedab\", \"type\": \"Plot\"}, \"dimensions\": [\"width\", \"height\"], \"id\": \"69712565-6ade-4981-b73e-fb885850b82b\", \"doc\": null}, \"type\": \"PanTool\"}, {\"id\": \"74ea4790-82d6-4267-ad2a-09c6707eb6d9\", \"attributes\": {\"id\": \"74ea4790-82d6-4267-ad2a-09c6707eb6d9\", \"tags\": [], \"doc\": null}, \"type\": \"BasicTickFormatter\"}, {\"id\": \"afdf6af7-4b24-4070-a0d4-2eb99f20cefc\", \"attributes\": {\"tags\": [], \"data\": {\"y\": [16, 5, 11, 9], \"x\": [1, 2, 3, 4]}, \"id\": \"afdf6af7-4b24-4070-a0d4-2eb99f20cefc\", \"selected\": [], \"doc\": null, \"column_names\": [\"x\", \"y\"]}, \"type\": \"ColumnDataSource\"}, {\"id\": \"c6a68a05-1f26-44e3-b36a-305683211a66\", \"attributes\": {\"tags\": [], \"plot\": {\"subtype\": \"Figure\", \"id\": \"c3dbed72-027a-4e75-a20e-82c03b5bedab\", \"type\": \"Plot\"}, \"legends\": [[\"Trace0\", [{\"id\": \"19fcf0ae-5adf-499c-b102-55ef660557e1\", \"type\": \"GlyphRenderer\"}]], [\"Trace1\", [{\"id\": \"547cdb6a-070a-4c72-894a-ccd29660841c\", \"type\": \"GlyphRenderer\"}]]], \"id\": \"c6a68a05-1f26-44e3-b36a-305683211a66\", \"doc\": null}, \"type\": \"Legend\"}, {\"id\": \"6c68013b-73fe-42ff-bb8e-41dc717b17f3\", \"attributes\": {\"tags\": [], \"plot\": {\"subtype\": \"Figure\", \"id\": \"c3dbed72-027a-4e75-a20e-82c03b5bedab\", \"type\": \"Plot\"}, \"dimensions\": [\"width\", \"height\"], \"id\": \"6c68013b-73fe-42ff-bb8e-41dc717b17f3\", \"doc\": null}, \"type\": \"WheelZoomTool\"}, {\"id\": \"11336517-94de-410a-8c80-53b6905489e0\", \"attributes\": {\"tags\": [], \"data\": {\"y\": [10, 15, 13, 17], \"x\": [1, 2, 3, 4]}, \"id\": \"11336517-94de-410a-8c80-53b6905489e0\", \"selected\": [], \"doc\": null, \"column_names\": [\"x\", \"y\"]}, \"type\": \"ColumnDataSource\"}, {\"id\": \"5e630fa9-3b8e-4d65-97d7-54352c160045\", \"attributes\": {\"id\": \"5e630fa9-3b8e-4d65-97d7-54352c160045\", \"tags\": [], \"plot\": {\"subtype\": \"Figure\", \"id\": \"c3dbed72-027a-4e75-a20e-82c03b5bedab\", \"type\": \"Plot\"}, \"doc\": null}, \"type\": \"PreviewSaveTool\"}, {\"id\": \"7bc43b4c-ccf8-435c-bcee-c34643d0549d\", \"attributes\": {\"line_alpha\": {\"value\": 0.1, \"units\": \"data\"}, \"y\": {\"field\": \"y\", \"units\": \"data\"}, \"line_color\": {\"value\": \"#1f77b4\"}, \"id\": \"7bc43b4c-ccf8-435c-bcee-c34643d0549d\", \"doc\": null, \"tags\": [], \"x\": {\"field\": \"x\", \"units\": \"data\"}}, \"type\": \"Line\"}, {\"id\": \"1e1f51c6-4d2a-4c57-9a8e-e5313f7d6d41\", \"attributes\": {\"tags\": [], \"plot\": {\"subtype\": \"Figure\", \"id\": \"c3dbed72-027a-4e75-a20e-82c03b5bedab\", \"type\": \"Plot\"}, \"dimensions\": [\"width\", \"height\"], \"id\": \"1e1f51c6-4d2a-4c57-9a8e-e5313f7d6d41\", \"doc\": null}, \"type\": \"BoxZoomTool\"}, {\"id\": \"19fcf0ae-5adf-499c-b102-55ef660557e1\", \"attributes\": {\"tags\": [], \"id\": \"19fcf0ae-5adf-499c-b102-55ef660557e1\", \"name\": null, \"data_source\": {\"id\": \"11336517-94de-410a-8c80-53b6905489e0\", \"type\": \"ColumnDataSource\"}, \"nonselection_glyph\": {\"id\": \"7bc43b4c-ccf8-435c-bcee-c34643d0549d\", \"type\": \"Line\"}, \"selection_glyph\": null, \"glyph\": {\"id\": \"572cc08f-88e5-4048-8a10-7b2cb384cc28\", \"type\": \"Line\"}, \"doc\": null}, \"type\": \"GlyphRenderer\"}, {\"id\": \"817c75ad-d9ee-492d-85a4-1f8683b9353f\", \"attributes\": {\"id\": \"817c75ad-d9ee-492d-85a4-1f8683b9353f\", \"tags\": [], \"doc\": null, \"sources\": [{\"source\": {\"id\": \"11336517-94de-410a-8c80-53b6905489e0\", \"type\": \"ColumnDataSource\"}, \"columns\": [\"x\"]}, {\"source\": {\"id\": \"afdf6af7-4b24-4070-a0d4-2eb99f20cefc\", \"type\": \"ColumnDataSource\"}, \"columns\": [\"x\"]}]}, \"type\": \"DataRange1d\"}, {\"id\": \"7a6c90dd-1130-4f2e-b946-6ae7b39c891b\", \"attributes\": {\"tags\": [], \"num_minor_ticks\": 5, \"id\": \"7a6c90dd-1130-4f2e-b946-6ae7b39c891b\", \"doc\": null, \"mantissas\": [2, 5, 10]}, \"type\": \"BasicTicker\"}, {\"id\": \"c710bf29-a086-4ff7-9ab3-0e5e40b21fba\", \"attributes\": {\"id\": \"c710bf29-a086-4ff7-9ab3-0e5e40b21fba\", \"tags\": [], \"plot\": {\"subtype\": \"Figure\", \"id\": \"c3dbed72-027a-4e75-a20e-82c03b5bedab\", \"type\": \"Plot\"}, \"doc\": null}, \"type\": \"ResetTool\"}, {\"id\": \"14434bc9-0c29-41d5-a110-617f8d7f0756\", \"attributes\": {\"tags\": [], \"num_minor_ticks\": 5, \"id\": \"14434bc9-0c29-41d5-a110-617f8d7f0756\", \"doc\": null, \"mantissas\": [2, 5, 10]}, \"type\": \"BasicTicker\"}, {\"id\": \"9c8aa586-3954-4bec-82fb-fd3c0d500aa0\", \"attributes\": {\"ticker\": {\"id\": \"7a6c90dd-1130-4f2e-b946-6ae7b39c891b\", \"type\": \"BasicTicker\"}, \"tags\": [], \"plot\": {\"subtype\": \"Figure\", \"id\": \"c3dbed72-027a-4e75-a20e-82c03b5bedab\", \"type\": \"Plot\"}, \"id\": \"9c8aa586-3954-4bec-82fb-fd3c0d500aa0\", \"dimension\": 0, \"doc\": null}, \"type\": \"Grid\"}, {\"id\": \"82e08293-98c0-4735-95d2-5f97d4e7d88f\", \"attributes\": {\"line_alpha\": {\"value\": 1.0, \"units\": \"data\"}, \"y\": {\"field\": \"y\", \"units\": \"data\"}, \"line_color\": {\"value\": \"#1f77b4\"}, \"id\": \"82e08293-98c0-4735-95d2-5f97d4e7d88f\", \"doc\": null, \"tags\": [], \"x\": {\"field\": \"x\", \"units\": \"data\"}}, \"type\": \"Line\"}, {\"id\": \"01c06cb0-a694-4a15-8123-58da60a35f2f\", \"attributes\": {\"id\": \"01c06cb0-a694-4a15-8123-58da60a35f2f\", \"tags\": [], \"doc\": null}, \"type\": \"BasicTickFormatter\"}, {\"id\": \"547cdb6a-070a-4c72-894a-ccd29660841c\", \"attributes\": {\"tags\": [], \"id\": \"547cdb6a-070a-4c72-894a-ccd29660841c\", \"name\": null, \"data_source\": {\"id\": \"afdf6af7-4b24-4070-a0d4-2eb99f20cefc\", \"type\": \"ColumnDataSource\"}, \"nonselection_glyph\": {\"id\": \"c46996a1-1da8-4d51-bbdd-1cbacd019380\", \"type\": \"Line\"}, \"selection_glyph\": null, \"glyph\": {\"id\": \"82e08293-98c0-4735-95d2-5f97d4e7d88f\", \"type\": \"Line\"}, \"doc\": null}, \"type\": \"GlyphRenderer\"}, {\"id\": \"61637744-c63a-44a0-8cf2-5e554ab20a2b\", \"attributes\": {\"id\": \"61637744-c63a-44a0-8cf2-5e554ab20a2b\", \"tags\": [], \"plot\": {\"subtype\": \"Figure\", \"id\": \"c3dbed72-027a-4e75-a20e-82c03b5bedab\", \"type\": \"Plot\"}, \"doc\": null}, \"type\": \"ResizeTool\"}];\n",
        "            Bokeh.load_models(all_models);\n",
        "            var model = Bokeh.Collections(modeltype).get(modelid);\n",
        "            var view = new model.default_view({model: model, el: '#d898b82b-71d4-40f8-942c-b24739f62f04'});\n",
        "            Bokeh.index[modelid] = view\n",
        "        });\n",
        "    </script>\n",
        "<div class=\"plotdiv\" id=\"d898b82b-71d4-40f8-942c-b24739f62f04\"></div>\n",
        "\n"
       ],
       "metadata": {},
       "output_type": "display_data"
      }
     ],
     "prompt_number": 21
    },
    {
     "cell_type": "heading",
     "level": 2,
     "metadata": {},
     "source": [
      "Prettyplotlib"
     ]
    },
    {
     "cell_type": "markdown",
     "metadata": {},
     "source": [
      "Now discontinued. Its author recommends the use of seaborn."
     ]
    },
    {
     "cell_type": "heading",
     "level": 2,
     "metadata": {},
     "source": [
      "Seaborn"
     ]
    },
    {
     "cell_type": "code",
     "collapsed": false,
     "input": [],
     "language": "python",
     "metadata": {},
     "outputs": []
    }
   ],
   "metadata": {}
  }
 ]
}