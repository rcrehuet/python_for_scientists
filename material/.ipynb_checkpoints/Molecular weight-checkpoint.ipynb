{
 "metadata": {
  "name": "",
  "signature": "sha256:98b1f8d40254ca0811944bed0b38738534b148bb0b6610646d5ba6713867d5f0"
 },
 "nbformat": 3,
 "nbformat_minor": 0,
 "worksheets": []
}