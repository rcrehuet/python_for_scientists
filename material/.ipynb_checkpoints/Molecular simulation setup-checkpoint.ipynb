{
 "metadata": {
  "name": "",
  "signature": "sha256:c0fecddf18573a95bb95a004e3a92f100091b08b1e80f14d4c41b35df3029ec9"
 },
 "nbformat": 3,
 "nbformat_minor": 0,
 "worksheets": []
}