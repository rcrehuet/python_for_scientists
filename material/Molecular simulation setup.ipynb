{
 "metadata": {
  "name": "",
  "signature": "sha256:b238b4004f41f2b6e10f5f4ae4022ef799d88f77a837afbecbbb2b89aa8e94ee"
 },
 "nbformat": 3,
 "nbformat_minor": 0,
 "worksheets": [
  {
   "cells": [
    {
     "cell_type": "heading",
     "level": 1,
     "metadata": {},
     "source": [
      "Ions in a molecular simulation"
     ]
    },
    {
     "cell_type": "markdown",
     "metadata": {},
     "source": [
      "When preparing a molecular simulation, it is usual to take the solute &ndash;say a protein&ndash; and define the size of the system where it is immersed.\n",
      "\n",
      "Then one has to add ions to mimic the concentration of the actual system. Some codes, such as [Campari](http://campari.sourceforge.net/) need to introduce manually the ions in a sequence file. Here we will write a code that does that.\n",
      "\n",
      "We will start by calculating the number of ions needed in a spherical system of radius `radius` given a concentration `conc` in mM."
     ]
    },
    {
     "cell_type": "code",
     "collapsed": false,
     "input": [
      "radius =\n",
      "conc = "
     ],
     "language": "python",
     "metadata": {},
     "outputs": [],
     "prompt_number": 0
    },
    {
     "cell_type": "markdown",
     "metadata": {},
     "source": [
      "Now convert that into an external code. Make it executable and add this `#!/usr/bin/env python3` as the first line of the code. \n",
      "\n",
      "It would be better to be able to read the input for the keyboard, instead of modifying the code each time. This is accomplished by the instruction \n",
      "\n",
      "    radius = input(\"Introduce a radius: \")\n",
      "    \n",
      "Whatever is read is a string. So you have to converted it into a `float` type to operate with it. Modify you code so that it reads the input from the keyboard."
     ]
    },
    {
     "cell_type": "code",
     "collapsed": false,
     "input": [],
     "language": "python",
     "metadata": {},
     "outputs": [],
     "prompt_number": 2
    },
    {
     "cell_type": "markdown",
     "metadata": {},
     "source": [
      "We will assume that the ions are Na$^+$ and Cl$^-$ ions. Write here the code that prints the ion names each in a separate line. For example, if 3 ions are needed, the program shoult print:\n",
      "\n",
      "    Na+\n",
      "    Na+\n",
      "    Na+\n",
      "    Cl-\n",
      "    Cl-\n",
      "    Cl-\n"
     ]
    },
    {
     "cell_type": "heading",
     "level": 1,
     "metadata": {},
     "source": [
      "From one to three letter sequences"
     ]
    },
    {
     "cell_type": "markdown",
     "metadata": {},
     "source": [
      "You may know that aminoacid names can be coded as one letter codes or three letter codes.\n",
      "For some reason we have our protein in a one letter code. The symbol `/` separates different chains. Here is our dimer."
     ]
    },
    {
     "cell_type": "code",
     "collapsed": false,
     "input": [
      "sequence = 'MATQPHHAGGST/AEGGEKYTGNM'"
     ],
     "language": "python",
     "metadata": {},
     "outputs": [],
     "prompt_number": 3
    },
    {
     "cell_type": "markdown",
     "metadata": {},
     "source": [
      "Convert that sequence into a three letter sequence with one residue per line (as with the ions before). Leave a blank line to separate chains. Do not print the output because we need to modify it further. Keep it in a list or a multi-line string.\n",
      "\n",
      "\n",
      "How would you do that? This dictionary will probably be useful:"
     ]
    },
    {
     "cell_type": "code",
     "collapsed": false,
     "input": [],
     "language": "python",
     "metadata": {},
     "outputs": [],
     "prompt_number": 3
    },
    {
     "cell_type": "markdown",
     "metadata": {},
     "source": [
      "The residue Histidine can be protonated in diferent positions. These tautomers are called HIE and HID. Our code needs to know which tatomer to use. For simplicity we will use only HIE. Correct the previous code so that it replaces `H` by `HIE` and not `HIS`."
     ]
    },
    {
     "cell_type": "code",
     "collapsed": false,
     "input": [],
     "language": "python",
     "metadata": {},
     "outputs": [],
     "prompt_number": 3
    },
    {
     "cell_type": "markdown",
     "metadata": {},
     "source": [
      "The first aminoacid in a chain is an N-terminal residue, and the last a C-terminal residue. We need to indicate our code that, so that it treats them properly. To do so, we need to append `_N` and `_C` to the names of the residues.\n",
      "The first residue will always be an N-terminal and the last C-terminal. Then you need to find the residues that are around a blank line and setup them correctly. Maybe `enumerate` can be useful to you. Alternatively, you can find the index of a certain element of a list with list method `index`."
     ]
    },
    {
     "cell_type": "code",
     "collapsed": false,
     "input": [
      "myList = [1,2,3,4,5,6,6,5,4,3,2,1]\n",
      "myList.index(3)"
     ],
     "language": "python",
     "metadata": {},
     "outputs": [
      {
       "metadata": {},
       "output_type": "pyout",
       "prompt_number": 6,
       "text": [
        "2"
       ]
      }
     ],
     "prompt_number": 6
    },
    {
     "cell_type": "code",
     "collapsed": false,
     "input": [
      "myList."
     ],
     "language": "python",
     "metadata": {},
     "outputs": [
      {
       "output_type": "stream",
       "stream": "stdout",
       "text": [
        "Object `myList.find` not found.\n"
       ]
      }
     ],
     "prompt_number": 8
    },
    {
     "cell_type": "code",
     "collapsed": false,
     "input": [],
     "language": "python",
     "metadata": {},
     "outputs": []
    }
   ],
   "metadata": {}
  }
 ]
}