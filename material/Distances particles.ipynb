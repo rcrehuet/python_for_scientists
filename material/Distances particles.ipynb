{
 "metadata": {
  "name": "",
  "signature": "sha256:889e08cbc9bc28c6524019dd6bda226821d3dea3e6048b093c9f577c0d74e9e4"
 },
 "nbformat": 3,
 "nbformat_minor": 0,
 "worksheets": [
  {
   "cells": [
    {
     "cell_type": "heading",
     "level": 1,
     "metadata": {},
     "source": [
      "Calculating all interparticle distances"
     ]
    },
    {
     "cell_type": "markdown",
     "metadata": {},
     "source": [
      "In this exercice we will calculate the distances between all pairs of particles in a system. This is a problem that appears in many fields, for example when calculating forces between particles or when calculating radial distribution functions.\n",
      "\n",
      "This operation scales as $O(N^2)$ and thus, for large particle numbers can be time consuming. We will approach this problem at different stages, from simple non-efficient approaches to more developped ones.\n",
      "\n",
      "For visualization purposes, we will work with 2D particles, but we will write algorithms that will work also for 3D."
     ]
    },
    {
     "cell_type": "heading",
     "level": 2,
     "metadata": {},
     "source": [
      "Pure Python. Particles in leasts."
     ]
    },
    {
     "cell_type": "markdown",
     "metadata": {},
     "source": [
      "We will start with particle positions kept in a list of tuples."
     ]
    },
    {
     "cell_type": "code",
     "collapsed": false,
     "input": [
      "particles = [(0.1, 0.1), (0.9, 0.9), (0.1, 0.9), (0.5, 0.5)]"
     ],
     "language": "python",
     "metadata": {},
     "outputs": [],
     "prompt_number": 23
    },
    {
     "cell_type": "markdown",
     "metadata": {},
     "source": [
      "We will learn how to visualize data in a future lecture, but visulazation is so useful we will use it from the start, as a black box."
     ]
    },
    {
     "cell_type": "code",
     "collapsed": false,
     "input": [
      "import matplotlib.pyplot as plt\n",
      "%matplotlib inline\n",
      "import matplotlib \n",
      "matplotlib.rcParams['figure.figsize'] = 8, 8"
     ],
     "language": "python",
     "metadata": {},
     "outputs": [],
     "prompt_number": 35
    },
    {
     "cell_type": "code",
     "collapsed": false,
     "input": [
      "[plt.plot(pi[0],pi[1], 'go') for pi in particles]\n",
      "plt.xlim((0,1))\n",
      "plt.ylim((0,1));"
     ],
     "language": "python",
     "metadata": {},
     "outputs": [
      {
       "metadata": {},
       "output_type": "display_data",
       "png": "[encoded data removed]",
       "text": [
        "<matplotlib.figure.Figure at 0x7ff6280b7400>"
       ]
      }
     ],
     "prompt_number": 36
    },
    {
     "cell_type": "markdown",
     "metadata": {},
     "source": [
      "We will use the math module to calculate the square root. We start by calculating the distance between 2 points, the first and the second."
     ]
    },
    {
     "cell_type": "code",
     "collapsed": false,
     "input": [
      "import math"
     ],
     "language": "python",
     "metadata": {},
     "outputs": [],
     "prompt_number": 27
    },
    {
     "cell_type": "code",
     "collapsed": false,
     "input": [
      "pi = particles[0]\n",
      "pj = particles[1]\n",
      "distance = math.sqrt((pi[0]-pj[0])**2+(pi[1]-pj[1])**2)\n",
      "print(\"distance = \",distance )"
     ],
     "language": "python",
     "metadata": {},
     "outputs": [
      {
       "output_type": "stream",
       "stream": "stdout",
       "text": [
        "distance =  1.1313708498984762\n"
       ]
      }
     ],
     "prompt_number": 33
    },
    {
     "cell_type": "markdown",
     "metadata": {},
     "source": [
      "Now we want to generalize this to an N-dimensional case:"
     ]
    },
    {
     "cell_type": "code",
     "collapsed": false,
     "input": [
      "distance = math.sqrt(np.sum([(coordi-coordj)**2 for coordi, coordj in zip(pi,pj)]))\n",
      "print(\"distance = \",distance )"
     ],
     "language": "python",
     "metadata": {},
     "outputs": [
      {
       "output_type": "stream",
       "stream": "stdout",
       "text": [
        "distance =  1.1313708498984762\n"
       ]
      }
     ],
     "prompt_number": 34
    },
    {
     "cell_type": "markdown",
     "metadata": {},
     "source": [
      "Clearly, lists are not very practical for working with vectors. That is why the `numpy` module exists. And we will use it from now on."
     ]
    },
    {
     "cell_type": "heading",
     "level": 2,
     "metadata": {},
     "source": [
      "Using `numpy`"
     ]
    },
    {
     "cell_type": "heading",
     "level": 3,
     "metadata": {},
     "source": [
      "Periodic boundary conditions"
     ]
    },
    {
     "cell_type": "markdown",
     "metadata": {},
     "source": [
      "In many applications, for example when simulating condesed media, one uses periodic boundary conditions. The particles are located in a cell, which is replicated with symmetry operations in all directions of a system. In that case, a particles sees only the image that is closest to it.\n",
      "\n",
      "Here we will use a square unit cell of dimensions $((0, 0), (1, 1))$."
     ]
    },
    {
     "cell_type": "code",
     "collapsed": false,
     "input": [
      "boundaries = ((0, 0), (1, 1))"
     ],
     "language": "python",
     "metadata": {},
     "outputs": []
    }
   ],
   "metadata": {}
  }
 ]
}